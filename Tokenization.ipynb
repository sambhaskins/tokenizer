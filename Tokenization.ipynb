{
 "cells": [
  {
   "cell_type": "code",
   "execution_count": 14,
   "id": "6082a0b4",
   "metadata": {},
   "outputs": [
    {
     "name": "stdout",
     "output_type": "stream",
     "text": [
      "---\n",
      "Text: Lorem ipsum dolor sit amet, consectetur adipiscing elit. Sed do 🕰 tempor incididunt ut labore et dolore magna aliqua. Ut enim ad minim veniam, quis nostrud exercitation ullamco laboris nisi ut aliquip ex 🪂 consequat. Duis aute irure dolor in reprehenderit in voluptate velit esse cillum dolore eu fugiat nulla pariatur. Excepteur 🚧 occaecat cupidatat non proident, sunt in culpa qui officia deserunt mollit anim id est laborum. Cras eget felis id elit volutpat scelerisque. Sed sed risus aliquam, interdum libero sit amet, laoreet quam. Maecenas vitae mi at elit fermentum sollicitudin nec vel nibh. Pellentesque habitant morbi tristique senectus et netus et malesuada fames ac turpis egestas. Integer eget enim luctus, molestie eros nec, consequat ipsum. Proin ullamcorper metus quis tortor placerat, eget gravida magna aliquam. Donec vulputate ex ut tellus fermentum, nec tincidunt justo convallis. Fusce sed metus id mi aliquet feugiat sed et justo. Nunc id purus a nunc vehicula interdum. Phasellus sed justo id libero ullamcorper luctus. Vivamus ac felis sed dui tristique blandit. Vivamus id lorem in magna vestibulum molestie nec a lectus. Fusce euismod ex ac purus malesuada tristique. Maecenas feugiat nisi euismod vestibulum fermentum. Sed faucibus est a arcu fermentum, sed porttitor eros luctus. Nam ullamcorper tellus sed metus dignissim, vel finibus ex accumsan. 🎉📚\n",
      "---\n",
      "Length: 1379\n",
      "---\n",
      "[76, 111, 114, 101, 109, 32, 105, 112, 115, 117, 109, 32, 100, 111, 108, 111, 114, 32, 115, 105, 116, 32, 97, 109, 101, 116, 44, 32, 99, 111, 110, 115, 101, 99, 116, 101, 116, 117, 114, 32, 97, 100, 105, 112, 105, 115, 99, 105, 110, 103, 32, 101, 108, 105, 116, 46, 32, 83, 101, 100, 32, 100, 111, 32, 240, 159, 149, 176, 32, 116, 101, 109, 112, 111, 114, 32, 105, 110, 99, 105, 100, 105, 100, 117, 110, 116, 32, 117, 116, 32, 108, 97, 98, 111, 114, 101, 32, 101, 116, 32, 100, 111, 108, 111, 114, 101, 32, 109, 97, 103, 110, 97, 32, 97, 108, 105, 113, 117, 97, 46, 32, 85, 116, 32, 101, 110, 105, 109, 32, 97, 100, 32, 109, 105, 110, 105, 109, 32, 118, 101, 110, 105, 97, 109, 44, 32, 113, 117, 105, 115, 32, 110, 111, 115, 116, 114, 117, 100, 32, 101, 120, 101, 114, 99, 105, 116, 97, 116, 105, 111, 110, 32, 117, 108, 108, 97, 109, 99, 111, 32, 108, 97, 98, 111, 114, 105, 115, 32, 110, 105, 115, 105, 32, 117, 116, 32, 97, 108, 105, 113, 117, 105, 112, 32, 101, 120, 32, 240, 159, 170, 130, 32, 99, 111, 110, 115, 101, 113, 117, 97, 116, 46, 32, 68, 117, 105, 115, 32, 97, 117, 116, 101, 32, 105, 114, 117, 114, 101, 32, 100, 111, 108, 111, 114, 32, 105, 110, 32, 114, 101, 112, 114, 101, 104, 101, 110, 100, 101, 114, 105, 116, 32, 105, 110, 32, 118, 111, 108, 117, 112, 116, 97, 116, 101, 32, 118, 101, 108, 105, 116, 32, 101, 115, 115, 101, 32, 99, 105, 108, 108, 117, 109, 32, 100, 111, 108, 111, 114, 101, 32, 101, 117, 32, 102, 117, 103, 105, 97, 116, 32, 110, 117, 108, 108, 97, 32, 112, 97, 114, 105, 97, 116, 117, 114, 46, 32, 69, 120, 99, 101, 112, 116, 101, 117, 114, 32, 240, 159, 154, 167, 32, 111, 99, 99, 97, 101, 99, 97, 116, 32, 99, 117, 112, 105, 100, 97, 116, 97, 116, 32, 110, 111, 110, 32, 112, 114, 111, 105, 100, 101, 110, 116, 44, 32, 115, 117, 110, 116, 32, 105, 110, 32, 99, 117, 108, 112, 97, 32, 113, 117, 105, 32, 111, 102, 102, 105, 99, 105, 97, 32, 100, 101, 115, 101, 114, 117, 110, 116, 32, 109, 111, 108, 108, 105, 116, 32, 97, 110, 105, 109, 32, 105, 100, 32, 101, 115, 116, 32, 108, 97, 98, 111, 114, 117, 109, 46, 32, 67, 114, 97, 115, 32, 101, 103, 101, 116, 32, 102, 101, 108, 105, 115, 32, 105, 100, 32, 101, 108, 105, 116, 32, 118, 111, 108, 117, 116, 112, 97, 116, 32, 115, 99, 101, 108, 101, 114, 105, 115, 113, 117, 101, 46, 32, 83, 101, 100, 32, 115, 101, 100, 32, 114, 105, 115, 117, 115, 32, 97, 108, 105, 113, 117, 97, 109, 44, 32, 105, 110, 116, 101, 114, 100, 117, 109, 32, 108, 105, 98, 101, 114, 111, 32, 115, 105, 116, 32, 97, 109, 101, 116, 44, 32, 108, 97, 111, 114, 101, 101, 116, 32, 113, 117, 97, 109, 46, 32, 77, 97, 101, 99, 101, 110, 97, 115, 32, 118, 105, 116, 97, 101, 32, 109, 105, 32, 97, 116, 32, 101, 108, 105, 116, 32, 102, 101, 114, 109, 101, 110, 116, 117, 109, 32, 115, 111, 108, 108, 105, 99, 105, 116, 117, 100, 105, 110, 32, 110, 101, 99, 32, 118, 101, 108, 32, 110, 105, 98, 104, 46, 32, 80, 101, 108, 108, 101, 110, 116, 101, 115, 113, 117, 101, 32, 104, 97, 98, 105, 116, 97, 110, 116, 32, 109, 111, 114, 98, 105, 32, 116, 114, 105, 115, 116, 105, 113, 117, 101, 32, 115, 101, 110, 101, 99, 116, 117, 115, 32, 101, 116, 32, 110, 101, 116, 117, 115, 32, 101, 116, 32, 109, 97, 108, 101, 115, 117, 97, 100, 97, 32, 102, 97, 109, 101, 115, 32, 97, 99, 32, 116, 117, 114, 112, 105, 115, 32, 101, 103, 101, 115, 116, 97, 115, 46, 32, 73, 110, 116, 101, 103, 101, 114, 32, 101, 103, 101, 116, 32, 101, 110, 105, 109, 32, 108, 117, 99, 116, 117, 115, 44, 32, 109, 111, 108, 101, 115, 116, 105, 101, 32, 101, 114, 111, 115, 32, 110, 101, 99, 44, 32, 99, 111, 110, 115, 101, 113, 117, 97, 116, 32, 105, 112, 115, 117, 109, 46, 32, 80, 114, 111, 105, 110, 32, 117, 108, 108, 97, 109, 99, 111, 114, 112, 101, 114, 32, 109, 101, 116, 117, 115, 32, 113, 117, 105, 115, 32, 116, 111, 114, 116, 111, 114, 32, 112, 108, 97, 99, 101, 114, 97, 116, 44, 32, 101, 103, 101, 116, 32, 103, 114, 97, 118, 105, 100, 97, 32, 109, 97, 103, 110, 97, 32, 97, 108, 105, 113, 117, 97, 109, 46, 32, 68, 111, 110, 101, 99, 32, 118, 117, 108, 112, 117, 116, 97, 116, 101, 32, 101, 120, 32, 117, 116, 32, 116, 101, 108, 108, 117, 115, 32, 102, 101, 114, 109, 101, 110, 116, 117, 109, 44, 32, 110, 101, 99, 32, 116, 105, 110, 99, 105, 100, 117, 110, 116, 32, 106, 117, 115, 116, 111, 32, 99, 111, 110, 118, 97, 108, 108, 105, 115, 46, 32, 70, 117, 115, 99, 101, 32, 115, 101, 100, 32, 109, 101, 116, 117, 115, 32, 105, 100, 32, 109, 105, 32, 97, 108, 105, 113, 117, 101, 116, 32, 102, 101, 117, 103, 105, 97, 116, 32, 115, 101, 100, 32, 101, 116, 32, 106, 117, 115, 116, 111, 46, 32, 78, 117, 110, 99, 32, 105, 100, 32, 112, 117, 114, 117, 115, 32, 97, 32, 110, 117, 110, 99, 32, 118, 101, 104, 105, 99, 117, 108, 97, 32, 105, 110, 116, 101, 114, 100, 117, 109, 46, 32, 80, 104, 97, 115, 101, 108, 108, 117, 115, 32, 115, 101, 100, 32, 106, 117, 115, 116, 111, 32, 105, 100, 32, 108, 105, 98, 101, 114, 111, 32, 117, 108, 108, 97, 109, 99, 111, 114, 112, 101, 114, 32, 108, 117, 99, 116, 117, 115, 46, 32, 86, 105, 118, 97, 109, 117, 115, 32, 97, 99, 32, 102, 101, 108, 105, 115, 32, 115, 101, 100, 32, 100, 117, 105, 32, 116, 114, 105, 115, 116, 105, 113, 117, 101, 32, 98, 108, 97, 110, 100, 105, 116, 46, 32, 86, 105, 118, 97, 109, 117, 115, 32, 105, 100, 32, 108, 111, 114, 101, 109, 32, 105, 110, 32, 109, 97, 103, 110, 97, 32, 118, 101, 115, 116, 105, 98, 117, 108, 117, 109, 32, 109, 111, 108, 101, 115, 116, 105, 101, 32, 110, 101, 99, 32, 97, 32, 108, 101, 99, 116, 117, 115, 46, 32, 70, 117, 115, 99, 101, 32, 101, 117, 105, 115, 109, 111, 100, 32, 101, 120, 32, 97, 99, 32, 112, 117, 114, 117, 115, 32, 109, 97, 108, 101, 115, 117, 97, 100, 97, 32, 116, 114, 105, 115, 116, 105, 113, 117, 101, 46, 32, 77, 97, 101, 99, 101, 110, 97, 115, 32, 102, 101, 117, 103, 105, 97, 116, 32, 110, 105, 115, 105, 32, 101, 117, 105, 115, 109, 111, 100, 32, 118, 101, 115, 116, 105, 98, 117, 108, 117, 109, 32, 102, 101, 114, 109, 101, 110, 116, 117, 109, 46, 32, 83, 101, 100, 32, 102, 97, 117, 99, 105, 98, 117, 115, 32, 101, 115, 116, 32, 97, 32, 97, 114, 99, 117, 32, 102, 101, 114, 109, 101, 110, 116, 117, 109, 44, 32, 115, 101, 100, 32, 112, 111, 114, 116, 116, 105, 116, 111, 114, 32, 101, 114, 111, 115, 32, 108, 117, 99, 116, 117, 115, 46, 32, 78, 97, 109, 32, 117, 108, 108, 97, 109, 99, 111, 114, 112, 101, 114, 32, 116, 101, 108, 108, 117, 115, 32, 115, 101, 100, 32, 109, 101, 116, 117, 115, 32, 100, 105, 103, 110, 105, 115, 115, 105, 109, 44, 32, 118, 101, 108, 32, 102, 105, 110, 105, 98, 117, 115, 32, 101, 120, 32, 97, 99, 99, 117, 109, 115, 97, 110, 46, 32, 240, 159, 142, 137, 240, 159, 147, 154]\n",
      "---\n",
      "Length: 1394\n",
      "---\n"
     ]
    }
   ],
   "source": [
    "text = \"Lorem ipsum dolor sit amet, consectetur adipiscing elit. Sed do 🕰 tempor incididunt ut labore et dolore magna aliqua. Ut enim ad minim veniam, quis nostrud exercitation ullamco laboris nisi ut aliquip ex 🪂 consequat. Duis aute irure dolor in reprehenderit in voluptate velit esse cillum dolore eu fugiat nulla pariatur. Excepteur 🚧 occaecat cupidatat non proident, sunt in culpa qui officia deserunt mollit anim id est laborum. Cras eget felis id elit volutpat scelerisque. Sed sed risus aliquam, interdum libero sit amet, laoreet quam. Maecenas vitae mi at elit fermentum sollicitudin nec vel nibh. Pellentesque habitant morbi tristique senectus et netus et malesuada fames ac turpis egestas. Integer eget enim luctus, molestie eros nec, consequat ipsum. Proin ullamcorper metus quis tortor placerat, eget gravida magna aliquam. Donec vulputate ex ut tellus fermentum, nec tincidunt justo convallis. Fusce sed metus id mi aliquet feugiat sed et justo. Nunc id purus a nunc vehicula interdum. Phasellus sed justo id libero ullamcorper luctus. Vivamus ac felis sed dui tristique blandit. Vivamus id lorem in magna vestibulum molestie nec a lectus. Fusce euismod ex ac purus malesuada tristique. Maecenas feugiat nisi euismod vestibulum fermentum. Sed faucibus est a arcu fermentum, sed porttitor eros luctus. Nam ullamcorper tellus sed metus dignissim, vel finibus ex accumsan. 🎉📚\"\n",
    "tokens = text.encode(\"utf-8\")\n",
    "tokens = list(map(int, tokens))\n",
    "print('---')\n",
    "print(\"Text:\", text)\n",
    "print('---')\n",
    "print(\"Length:\", len(text))\n",
    "print('---')\n",
    "print(tokens)\n",
    "print('---')\n",
    "print(\"Length:\", len(tokens))\n",
    "print('---')"
   ]
  },
  {
   "cell_type": "code",
   "execution_count": 9,
   "id": "ac2fd9b1",
   "metadata": {},
   "outputs": [],
   "source": []
  },
  {
   "cell_type": "code",
   "execution_count": 10,
   "id": "1a2a890f",
   "metadata": {},
   "outputs": [],
   "source": []
  },
  {
   "cell_type": "code",
   "execution_count": null,
   "id": "447dfa4f",
   "metadata": {},
   "outputs": [],
   "source": []
  }
 ],
 "metadata": {
  "kernelspec": {
   "display_name": "Python 3 (ipykernel)",
   "language": "python",
   "name": "python3"
  },
  "language_info": {
   "codemirror_mode": {
    "name": "ipython",
    "version": 3
   },
   "file_extension": ".py",
   "mimetype": "text/x-python",
   "name": "python",
   "nbconvert_exporter": "python",
   "pygments_lexer": "ipython3",
   "version": "3.11.3"
  }
 },
 "nbformat": 4,
 "nbformat_minor": 5
}
